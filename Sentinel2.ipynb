{
 "cells": [
  {
   "cell_type": "markdown",
   "metadata": {},
   "source": [
    "# Sentinel 2\n",
    "### Eleonora (Nori) Parelius\n",
    "### 20.10.2025"
   ]
  },
  {
   "cell_type": "markdown",
   "metadata": {},
   "source": [
    "# Sentinel 2\n",
    "* go to [wiki page on Sentinel 2 at Copernicus](https://sentiwiki.copernicus.eu/web/s2-mission)\n",
    "* skim for 5 minutes and try to identify 3-5 key characteristics of Sentinel 2\n",
    "* optionally, identify one question you think the text can answer"
   ]
  },
  {
   "cell_type": "markdown",
   "metadata": {},
   "source": [
    "# Sentinel 2\n",
    "* Part of European Space Agency's (ESA) Copernicus programme\n",
    "* Twin sattelites\n",
    "    * Sentinel 2A since 23. June 2015\n",
    "    * Sentinel 2B since 7. March 2017\n",
    "    * Sentinel 2C, launched on 5.9.2024 -- to replace 2A\n",
    "    \n",
    "<img src=\"images/sentinelsat.jpg\" alt=\"Image of Sentinel 2 from Copernicus\" width=\"400\"/>"
   ]
  },
  {
   "cell_type": "markdown",
   "metadata": {},
   "source": [
    "## Coverage and time resolution\n",
    "* At same angle every 5 days (10 days for same sattelite)\n",
    "* Between $56^{\\circ}$ S and $84^{\\circ}$ degrees N\n",
    "* Coast up to 20 km from land\n",
    "* Islands over $100\\ \\rm{km^2}$\n",
    "* Antarctica on demand\n",
    "* Sun synchronous orbit at 786 km, 10:30 am descending node\n",
    "<img src=\"images/sentinelcoverage.png\" alt=\"Coverage of Sentinel 2\" width=\"400\"/>  \n",
    "Image from Copernicus"
   ]
  },
  {
   "cell_type": "markdown",
   "metadata": {},
   "source": [
    "## Sentinel 2 multispectral sensor\n",
    "* 13 spectral bands in VIS, VNIR, SWIR\n",
    "* Spatial resolution 10, 20, 60 m\n",
    "* Push-broom, swath of 290 km\n",
    "![](images/sentinelbands.jpg)\n",
    "\n",
    "Image from eoportal.org\n"
   ]
  },
  {
   "cell_type": "markdown",
   "metadata": {},
   "source": [
    "## Sentinel tiles\n",
    "<img src=\"images/S2_granules_tiles.jpg\" alt=\"Sentinel 2 tiles vs granules\" width=\"300\"/>\n",
    "\n",
    "Image from eox.at "
   ]
  },
  {
   "cell_type": "markdown",
   "metadata": {},
   "source": [
    "## Products\n",
    "All free!\n",
    "\n",
    "* Level-1B\n",
    "    * Top-of-atmosphere calibrated radiances in sensor geometry\n",
    "    * Include radiometric corrections\n",
    "    * Not orthorectified\n",
    "    * Come in granules\n",
    "* Level-1C\n",
    "    * Top-of-atmosphere reflectance\n",
    "    * Radiometrically and geometrically corrected\n",
    "    * Orthorectified and spatially coregistered on a global reference system. \n",
    "    * Come in tiles\n",
    "* Level-2A\n",
    "    * Bottom-of-atmosphere (Surface) reflectance\n",
    "    * Otherwise same as L-1C"
   ]
  },
  {
   "cell_type": "markdown",
   "metadata": {},
   "source": [
    "## Examples\n",
    "\n",
    "Let's look at the [Copernicus browser](https://browser.dataspace.copernicus.eu/)\n"
   ]
  },
  {
   "cell_type": "markdown",
   "metadata": {},
   "source": [
    "# Sentinel 2 - Searching, downloading, loading up and working with it in Python"
   ]
  },
  {
   "cell_type": "code",
   "execution_count": null,
   "metadata": {},
   "outputs": [],
   "source": [
    "import numpy as np\n",
    "import matplotlib\n",
    "import matplotlib.pyplot as plt\n",
    "from matplotlib import cm\n"
   ]
  },
  {
   "cell_type": "code",
   "execution_count": null,
   "metadata": {},
   "outputs": [],
   "source": [
    "%reload_ext autoreload\n",
    "%autoreload 2\n",
    "%matplotlib inline"
   ]
  },
  {
   "cell_type": "markdown",
   "metadata": {},
   "source": [
    "## Area of interest\n",
    "\n",
    "First half of 2022, there was a drought in Norway, so we could expect that the vegetation in 2022 wasn't as healthy as usual. This should show up by NDVI being generally lower in 2022 than in 2021. "
   ]
  },
  {
   "cell_type": "markdown",
   "metadata": {},
   "source": [
    "### Pick your area\n",
    "I am picking my home, you can pick wherever you want. \n",
    "\n",
    "### Go to Copernicus Browser, define area and download\n",
    "* [Copernicus browser](https://browser.dataspace.copernicus.eu/)\n",
    "* Use the *Search* tab and find one image from May 2021 and one from May 2022\n",
    "* Download the tile"
   ]
  },
  {
   "cell_type": "markdown",
   "metadata": {},
   "source": [
    "## Check the files\n",
    "Where are the images? Unzip and explore the folder structure."
   ]
  },
  {
   "cell_type": "markdown",
   "metadata": {},
   "source": [
    "## Let's load it"
   ]
  },
  {
   "cell_type": "code",
   "execution_count": null,
   "metadata": {},
   "outputs": [],
   "source": [
    "# Rewrite these to fit your images\n",
    "may_2021_r10 = 'data/S2B_MSIL2A_20210530T104619_N0500_R051_T32VPM_20230228T112003.SAFE/GRANULE/L2A_T32VPM_A022099_20210530T104621/IMG_DATA/R10m/'\n",
    "may_2022_r10 = 'data/S2A_MSIL2A_20220517T103631_N0400_R008_T32VPM_20220517T161111.SAFE/GRANULE/L2A_T32VPM_A036041_20220517T103708/IMG_DATA/R10m/'"
   ]
  },
  {
   "cell_type": "code",
   "execution_count": null,
   "metadata": {},
   "outputs": [],
   "source": [
    "import rasterio\n",
    "\n",
    "# Open b2, b3, b4 and b8\n",
    "# Rewrite these to fit your images\n",
    "# 2021\n",
    "m2021_band2=rasterio.open(may_2021_r10 + \"T32VPM_20210530T104619_B02_10m.jp2\")\n",
    "m2021_band3=rasterio.open(may_2021_r10 + \"T32VPM_20210530T104619_B03_10m.jp2\")\n",
    "m2021_band4=rasterio.open(may_2021_r10 + \"T32VPM_20210530T104619_B04_10m.jp2\")\n",
    "m2021_band8=rasterio.open(may_2021_r10 + \"T32VPM_20210530T104619_B08_10m.jp2\")\n",
    "\n",
    "2022\n",
    "m2022_band2=rasterio.open(may_2022_r10 + \"T32VPM_20220517T103631_B02_10m.jp2\")\n",
    "m2022_band3=rasterio.open(may_2022_r10 + \"T32VPM_20220517T103631_B03_10m.jp2\")\n",
    "m2022_band4=rasterio.open(may_2022_r10 + \"T32VPM_20220517T103631_B04_10m.jp2\")\n",
    "m2022_band8=rasterio.open(may_2022_r10 + \"T32VPM_20220517T103631_B08_10m.jp2\")\n",
    "\n",
    "# Check the properties of one of the bands\n",
    "print(m2021_band2.profile)\n",
    "# You can check the others too"
   ]
  },
  {
   "cell_type": "markdown",
   "metadata": {},
   "source": [
    "## Plotting the bands"
   ]
  },
  {
   "cell_type": "code",
   "execution_count": null,
   "metadata": {},
   "outputs": [],
   "source": [
    "# Fill in the blanks\n",
    "fig = plt.figure(figsize=(20,6))\n",
    "ax1 = fig.add_subplot(1,3,1)\n",
    "ax1.imshow(m2022_band4.read(1), cmap='Reds')\n",
    "ax2 = fig.add_subplot(1,3,2)\n",
    "ax2.imshow(..., cmap='Greens')\n",
    "ax3 = fig.add_subplot(1,3,3)\n",
    "ax3.imshow(..., cmap='Blues')"
   ]
  },
  {
   "cell_type": "markdown",
   "metadata": {},
   "source": [
    "## Plotting the RGB\n",
    "That comes with the granule"
   ]
  },
  {
   "cell_type": "code",
   "execution_count": null,
   "metadata": {},
   "outputs": [],
   "source": [
    "from rasterio.plot import show\n",
    "RGB_im = rasterio.open('data/S2A_MSIL2A_20220517T103631_N0400_R008_T32VPM_20220517T161111.SAFE/S2A_MSIL2A_20220517T103631_N0400_R008_T32VPM_20220517T161111-ql.jpg')\n",
    "# What do you get when you look at the properties?"
   ]
  },
  {
   "cell_type": "code",
   "execution_count": null,
   "metadata": {},
   "outputs": [],
   "source": [
    "print(RGB_im.profile)"
   ]
  },
  {
   "cell_type": "code",
   "execution_count": null,
   "metadata": {},
   "outputs": [],
   "source": [
    "show(RGB_im)"
   ]
  },
  {
   "cell_type": "markdown",
   "metadata": {},
   "source": [
    "## Limiting the area"
   ]
  },
  {
   "cell_type": "markdown",
   "metadata": {},
   "source": [
    "### Define the polygon"
   ]
  },
  {
   "cell_type": "code",
   "execution_count": null,
   "metadata": {},
   "outputs": [],
   "source": [
    "import shapely\n",
    "import pyproj\n",
    "from shapely.ops import transform\n",
    "\n",
    "# bounding box coordinates of the area of interest in \n",
    "# WGS84 CRS, [minx, miny, maxx, maxy]\n",
    "bbox_coords = [60, 11.35, 60.21, 11.8] # find your\n",
    "\n",
    "# Let's create a shapely geometry of the bounding box\n",
    "polygon = shapely.geometry.box(*bbox_coords) \n",
    "# what happens if you remove the asterisk?\n",
    "\n",
    "# Get it into the right coordinate system\n",
    "project = pyproj.Transformer.from_proj(\n",
    "    pyproj.Proj('epsg:4326'), # source coordinate system\n",
    "    pyproj.Proj('epsg:32632')) # destination coordinate system \n",
    "# ! make sure you change to your destination coordinate system!\n",
    "\n",
    "transformed_polygon = transform(project.transform, polygon)  # apply projection"
   ]
  },
  {
   "cell_type": "markdown",
   "metadata": {},
   "source": [
    "### Crop all the bands and save as one tif"
   ]
  },
  {
   "cell_type": "code",
   "execution_count": null,
   "metadata": {},
   "outputs": [],
   "source": [
    "import rasterio.mask\n",
    "out_band2, out_transform = rasterio.mask.mask(m2021_band2, \n",
    "                                              [transformed_polygon], \n",
    "                                              crop=True)\n",
    "out_meta = m2021_band2.meta\n",
    "\n",
    "out_meta.update({\"driver\": \"GTiff\",\n",
    "                 \"count\" : 4,\n",
    "                 \"height\": out_band2.shape[1],\n",
    "                 \"width\": out_band2.shape[2],\n",
    "                 \"transform\": out_transform})\n",
    "\n",
    "out_band3,_ = rasterio.mask.mask(m2021_band3, [transformed_polygon], crop=True)\n",
    "out_band4,_ = rasterio.mask.mask(m2021_band4, [transformed_polygon], crop=True)\n",
    "out_band8,_ = rasterio.mask.mask(m2021_band8, [transformed_polygon], crop=True)\n",
    "\n",
    "with rasterio.open(\"may2021_r10_masked.tif\", \"w\", **out_meta) as dest:\n",
    "    dest.write(out_band2.squeeze(),1)\n",
    "    dest.write(out_band3.squeeze(),2)\n",
    "    dest.write(out_band4.squeeze(),3)\n",
    "    dest.write(out_band8.squeeze(),4)"
   ]
  },
  {
   "cell_type": "markdown",
   "metadata": {},
   "source": [
    "Do the same for 2022"
   ]
  },
  {
   "cell_type": "markdown",
   "metadata": {},
   "source": [
    "## Let's plot it as RGB"
   ]
  },
  {
   "cell_type": "code",
   "execution_count": null,
   "metadata": {},
   "outputs": [],
   "source": [
    "img1 = rasterio.open(\"may2021_r10_masked.tif\")\n",
    "rgb_image1 = np.array([img1.read(3), img1.read(2), img1.read(1)])\n",
    "# Values in optical bands come in digital units DN, \n",
    "# where DN = 10 000 * reflectance where reflectance is 0-1\n",
    "# Note, there is an offset of 1000 that is added to DNs \n",
    "# to avoid negative numbers.\n",
    "# https://docs.sentinel-hub.com/api/latest/data/sentinel-2-l2a/\n",
    "# Using 3 to brighten the images\n",
    "\n",
    "print(np.unique(rgb_image1))\n",
    "\n",
    "rgb_image1=(rgb_image1-1000.0)/10000*3\n",
    "rgb_image1[rgb_image1>1]=1\n",
    "rgb_image1[rgb_image1<0]=0\n",
    "\n",
    "img2 = rasterio.open(\"may2022_r10_masked.tif\")\n",
    "rgb_image2 = np.array([img2.read(3), img2.read(2), img2.read(1)])\n",
    "rgb_image2=(rgb_image2-1000.0)/10000*3\n",
    "rgb_image2[rgb_image2>1]=1\n",
    "rgb_image2[rgb_image2<0]=0\n",
    "\n",
    "# Use print statements to find out what kind of values the image comes as "
   ]
  },
  {
   "cell_type": "code",
   "execution_count": null,
   "metadata": {},
   "outputs": [],
   "source": [
    "# Plot the resulting images\n",
    "fig, ax = plt.subplots(1,2, figsize=(20,12))\n",
    "show(rgb_image1, ax=ax[0])\n",
    "show(rgb_image2, ax=ax[1])"
   ]
  },
  {
   "cell_type": "markdown",
   "metadata": {},
   "source": [
    "## NDVI images"
   ]
  },
  {
   "cell_type": "code",
   "execution_count": null,
   "metadata": {},
   "outputs": [],
   "source": [
    "# Fill in the gaps ...\n",
    "# There is an offset of 1000 to the values\n",
    "red_2021 = (img1.read(...) - ...).astype(int)\n",
    "red_2021[red_2021<0] = 0\n",
    "red_2022 = (img2.read(...) - ...).astype(int)\n",
    "red_2022[red_2022<0] = 0\n",
    "\n",
    "nir_2021 = (img1.read(...) - ...).astype(int)\n",
    "nir_2021[nir_2021<0] = 0\n",
    "nir_2022 = (img2.read(...) - ...).astype(int)\n",
    "nir_2022[nir_2022<0] = 0\n"
   ]
  },
  {
   "cell_type": "code",
   "execution_count": null,
   "metadata": {},
   "outputs": [],
   "source": [
    "# Then we can calculate the NDVI\n",
    "# Fill in the gaps\n",
    "ndvi_2021 = (...)/(... + 1e-6)\n",
    "ndvi_2022 = (...)/(... + 1e-6)\n",
    "\n",
    "# Are you getting values that make sense?"
   ]
  },
  {
   "cell_type": "code",
   "execution_count": null,
   "metadata": {},
   "outputs": [],
   "source": [
    "# Mean NDVI\n",
    "print(\"Mean NDVI in 2021:\", ndvi_2021.mean())\n",
    "print(\"Mean NDVI in 2022:\", ndvi_2022.mean())"
   ]
  },
  {
   "cell_type": "code",
   "execution_count": null,
   "metadata": {},
   "outputs": [],
   "source": [
    "# And let's plot the NDVI in grayscale\n",
    "# Higher value gives darker color\n",
    "fig, ax = plt.subplots(1,2, figsize=(12,5))\n",
    "ax[0].imshow(ndvi_2021, cmap='Grays')\n",
    "ax[1].imshow(ndvi_2022, cmap='Grays')"
   ]
  },
  {
   "cell_type": "markdown",
   "metadata": {},
   "source": [
    "## Let's look at the difference\n",
    "\n",
    "We expect the health of the vegetation to be better in 2021, because of the drought in 2022. The NDVI should then be higher for 2021 than for 2022.\n",
    "\n",
    "We should then expect the difference ndvi_2021 - ndvi_2022 to be mostly positive. \n",
    "\n",
    "Let's check if that is the case. "
   ]
  },
  {
   "cell_type": "code",
   "execution_count": null,
   "metadata": {},
   "outputs": [],
   "source": [
    "# Plotting the NDVI difference\n",
    "\n",
    "diff = ndvi_2021 - ndvi_2022\n",
    "fig, ax = plt.subplots(1, figsize=(6,6))\n",
    "pic = ax.imshow(diff, norm=matplotlib.colors.CenteredNorm(),cmap = cm.coolwarm)\n",
    "fig.colorbar(pic, ax=ax)"
   ]
  },
  {
   "cell_type": "code",
   "execution_count": null,
   "metadata": {},
   "outputs": [],
   "source": [
    "diff_binary = diff\n",
    "diff_binary[diff_binary>0]=1\n",
    "diff_binary[diff_binary<0]=-1\n",
    "fig, ax = plt.subplots(1, figsize=(6,6))\n",
    "pic = ax.imshow(diff_binary, norm=matplotlib.colors.CenteredNorm(),cmap = cm.coolwarm)"
   ]
  },
  {
   "cell_type": "markdown",
   "metadata": {},
   "source": [
    "## Save the NDVI difference as a Geotiff"
   ]
  },
  {
   "cell_type": "code",
   "execution_count": null,
   "metadata": {},
   "outputs": [],
   "source": [
    "# Open one of the orginal geotiffs, so we can copy the metadata from it\n",
    "with rasterio.open('may2021_r10_masked.tif') as src:\n",
    "    out_image = diff\n",
    "    out_meta = src.meta.copy()\n",
    "    # Update the metadata that are different for our new image\n",
    "    out_meta.update({\n",
    "        \"driver\": \"GTiff\",\n",
    "        \"count\": 1, #only one band instead of 12\n",
    "        \"dtype\": \"float64\", #float instead of int\n",
    "    })\n",
    "# Use rasterio to write the numpy array into a geotiff \n",
    "# using the defined metadata\n",
    "with rasterio.open(\"NDVI_diff.tiff\", \"w\", **out_meta) as dest:\n",
    "    dest.write(diff, indexes=1)"
   ]
  }
 ],
 "metadata": {
  "kernelspec": {
   "display_name": "Python 3 (ipykernel)",
   "language": "python",
   "name": "python3"
  },
  "language_info": {
   "codemirror_mode": {
    "name": "ipython",
    "version": 3
   },
   "file_extension": ".py",
   "mimetype": "text/x-python",
   "name": "python",
   "nbconvert_exporter": "python",
   "pygments_lexer": "ipython3",
   "version": "3.12.6"
  }
 },
 "nbformat": 4,
 "nbformat_minor": 4
}
